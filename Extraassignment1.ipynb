{
 "cells": [
  {
   "cell_type": "code",
   "execution_count": 1,
   "id": "1b10ae25-0cc5-4123-b98f-35653ab754f5",
   "metadata": {},
   "outputs": [
    {
     "name": "stdout",
     "output_type": "stream",
     "text": [
      "HOPE AI\n"
     ]
    }
   ],
   "source": [
    "print(\"HOPE AI\")"
   ]
  },
  {
   "cell_type": "code",
   "execution_count": 3,
   "id": "acdf715f-5f5f-49a4-b53d-a4e7a568c712",
   "metadata": {},
   "outputs": [
    {
     "name": "stdin",
     "output_type": "stream",
     "text": [
      "Enter your institute name?: HOPE AI\n"
     ]
    }
   ],
   "source": [
    "Name = input(\"Enter your institute name?:\")"
   ]
  },
  {
   "cell_type": "code",
   "execution_count": 4,
   "id": "30cabfcf-ea12-4739-afee-59ac82fa4772",
   "metadata": {},
   "outputs": [
    {
     "name": "stdin",
     "output_type": "stream",
     "text": [
      "Enter your name : Raj\n",
      "Enter your age : 15\n",
      "Enter your School name : Guru School\n",
      "Enter your degree : B.E CSE\n"
     ]
    }
   ],
   "source": [
    "Name = input(\"Enter your name :\")\n",
    "Name = input(\"Enter your age :\")\n",
    "Name = input(\"Enter your School name :\")\n",
    "Name = input(\"Enter your degree :\")\n"
   ]
  },
  {
   "cell_type": "code",
   "execution_count": 8,
   "id": "006ace81-0c81-4e60-ab06-32839a267917",
   "metadata": {},
   "outputs": [
    {
     "name": "stdout",
     "output_type": "stream",
     "text": [
      "a= 43\n",
      "b= 34\n",
      "add= 77\n"
     ]
    }
   ],
   "source": [
    "a = 43\n",
    "b = 34\n",
    "add = a+b\n",
    "print(\"a= 43\")\n",
    "print(\"b= 34\")\n",
    "print(\"add=\",add)\n"
   ]
  },
  {
   "cell_type": "code",
   "execution_count": 10,
   "id": "e4a04352-b41a-4dd4-96a7-9a286c8a92e9",
   "metadata": {},
   "outputs": [
    {
     "name": "stdout",
     "output_type": "stream",
     "text": [
      "a= 43\n",
      "b= 34\n",
      "sub= 9\n"
     ]
    }
   ],
   "source": [
    "a = 43\n",
    "b = 34\n",
    "sub = a-b\n",
    "print(\"a= 43\")\n",
    "print(\"b= 34\")\n",
    "print(\"sub=\",sub)\n"
   ]
  },
  {
   "cell_type": "code",
   "execution_count": 12,
   "id": "ff19050b-7caf-4b88-b9ad-0c9700ecf527",
   "metadata": {},
   "outputs": [
    {
     "name": "stdout",
     "output_type": "stream",
     "text": [
      "a= 63\n",
      "b= 97\n",
      "mul= 6111\n"
     ]
    }
   ],
   "source": [
    "a = 63\n",
    "b = 97\n",
    "mul = a*b\n",
    "print(\"a= 63\")\n",
    "print(\"b= 97\")\n",
    "print(\"mul=\",mul)\n"
   ]
  },
  {
   "cell_type": "code",
   "execution_count": 14,
   "id": "7f9d5689-c6a2-4260-876e-58b2c561c4e5",
   "metadata": {},
   "outputs": [
    {
     "name": "stdout",
     "output_type": "stream",
     "text": [
      "a= 76\n",
      "b= 31\n",
      "Float Div = 2.4516129032258065\n"
     ]
    }
   ],
   "source": [
    "a = 76\n",
    "b = 31\n",
    "div = 76/31\n",
    "print(\"a= 76\")\n",
    "print(\"b= 31\")\n",
    "print(\"Float Div =\",div)"
   ]
  },
  {
   "cell_type": "code",
   "execution_count": 1,
   "id": "ff8f285c-02bb-43db-bc63-aa81f93abf4a",
   "metadata": {},
   "outputs": [
    {
     "name": "stdout",
     "output_type": "stream",
     "text": [
      "a= 76\n",
      "b= 31\n",
      "Floor Div = 2\n"
     ]
    }
   ],
   "source": [
    "a = 76\n",
    "b = 31\n",
    "div = 76//31\n",
    "print(\"a= 76\")\n",
    "print(\"b= 31\")\n",
    "print(\"Floor Div =\",div)"
   ]
  },
  {
   "cell_type": "code",
   "execution_count": 2,
   "id": "d48cd403-3fc3-4c1f-b886-eb9333c8a3e9",
   "metadata": {},
   "outputs": [
    {
     "name": "stdout",
     "output_type": "stream",
     "text": [
      "a= 76\n",
      "b= 31\n",
      "Modulo = 14\n"
     ]
    }
   ],
   "source": [
    "a = 76\n",
    "b = 31\n",
    "mod = 76%31\n",
    "print(\"a= 76\")\n",
    "print(\"b= 31\")\n",
    "print(\"Modulo =\",mod)"
   ]
  },
  {
   "cell_type": "code",
   "execution_count": 4,
   "id": "5cd7dda1-2319-4e01-b683-857aea25a963",
   "metadata": {},
   "outputs": [
    {
     "name": "stdout",
     "output_type": "stream",
     "text": [
      "a= 4\n",
      "b= 4\n",
      "Power = 256\n"
     ]
    }
   ],
   "source": [
    "a = 76\n",
    "b = 31\n",
    "power = 4**4\n",
    "print(\"a= 4\")\n",
    "print(\"b= 4\")\n",
    "print(\"Power =\",power)"
   ]
  },
  {
   "cell_type": "code",
   "execution_count": null,
   "id": "295f4445-5bc0-4e0e-9888-8306a9eb2a35",
   "metadata": {},
   "outputs": [],
   "source": []
  }
 ],
 "metadata": {
  "kernelspec": {
   "display_name": "Python 3 (ipykernel)",
   "language": "python",
   "name": "python3"
  },
  "language_info": {
   "codemirror_mode": {
    "name": "ipython",
    "version": 3
   },
   "file_extension": ".py",
   "mimetype": "text/x-python",
   "name": "python",
   "nbconvert_exporter": "python",
   "pygments_lexer": "ipython3",
   "version": "3.11.7"
  }
 },
 "nbformat": 4,
 "nbformat_minor": 5
}
